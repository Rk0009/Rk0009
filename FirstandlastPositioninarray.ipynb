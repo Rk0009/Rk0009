{
  "nbformat": 4,
  "nbformat_minor": 0,
  "metadata": {
    "colab": {
      "name": "FirstandlastPositioninarray.ipynb",
      "provenance": [],
      "collapsed_sections": [],
      "toc_visible": true,
      "authorship_tag": "ABX9TyOuqzvEClAapwm6HslEduU2",
      "include_colab_link": true
    },
    "kernelspec": {
      "name": "python3",
      "display_name": "Python 3"
    },
    "language_info": {
      "name": "python"
    }
  },
  "cells": [
    {
      "cell_type": "markdown",
      "metadata": {
        "id": "view-in-github",
        "colab_type": "text"
      },
      "source": [
        "<a href=\"https://colab.research.google.com/github/Rk0009/Rk0009/blob/main/FirstandlastPositioninarray.ipynb\" target=\"_parent\"><img src=\"https://colab.research.google.com/assets/colab-badge.svg\" alt=\"Open In Colab\"/></a>"
      ]
    },
    {
      "cell_type": "code",
      "metadata": {
        "id": "uGa8o_h3PtH5"
      },
      "source": [
        "a=[1,2,3,4,5,6,7,7,8]\n",
        "target=7"
      ],
      "execution_count": 29,
      "outputs": []
    },
    {
      "cell_type": "code",
      "metadata": {
        "id": "vVa-IoFqPWK9"
      },
      "source": [
        "class solution():\n",
        "    def firstposition(self,arr,target):\n",
        "        left=0\n",
        "        right=len(arr)-1\n",
        "        while(left<=right):\n",
        "            mid=(left+right)//2\n",
        "            if arr[mid]==target:\n",
        "                if (mid-1>=0 and arr[mid-1]!=target or mid==0):\n",
        "                    return mid\n",
        "                right=mid-1\n",
        "            elif arr[mid]>target:\n",
        "                right=mid-1\n",
        "            else:\n",
        "                left=mid+1\n",
        "        return -1\n",
        "    def lastposition(self,arr,target):\n",
        "        left=0\n",
        "        right=len(arr)-1\n",
        "        while(left<=right):\n",
        "            mid=(left+right)//2\n",
        "            if arr[mid]==target:\n",
        "                if (mid+1<len(arr) and arr[mid+1]!=target or mid==len(arr)-1):\n",
        "                    return mid\n",
        "                left=mid+1\n",
        "            elif arr[mid]>target:\n",
        "                right=mid-1\n",
        "            else:\n",
        "                left=mid+1\n",
        "        return -1\n",
        "\n",
        "    def searchelement(self,arr,target):\n",
        "        first=self.firstposition(arr,target)\n",
        "        last=self.lastposition(arr,target)\n",
        "\n",
        "        return [first, last]"
      ],
      "execution_count": 25,
      "outputs": []
    },
    {
      "cell_type": "code",
      "metadata": {
        "colab": {
          "base_uri": "https://localhost:8080/"
        },
        "id": "iabpa95QPWcf",
        "outputId": "3b3e84d2-be7b-46c1-e95a-a054cbebc7d2"
      },
      "source": [
        "k=solution()\n",
        "print(k.searchelement(a,target))"
      ],
      "execution_count": 30,
      "outputs": [
        {
          "output_type": "stream",
          "name": "stdout",
          "text": [
            "[6, 7]\n"
          ]
        }
      ]
    },
    {
      "cell_type": "code",
      "metadata": {
        "id": "hri3PLLnV9ya"
      },
      "source": [
        ""
      ],
      "execution_count": null,
      "outputs": []
    }
  ]
}